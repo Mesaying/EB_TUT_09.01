{
  "cells": [
    {
      "cell_type": "markdown",
      "id": "1a5fcff9-e252-4725-b0df-4383979746c7",
      "metadata": {
        "noteable": {
          "cell_type": "markdown"
        }
      },
      "source": [
        "<img src=\"https://upload.wikimedia.org/wikipedia/de/9/9c/UniversitaetTuebingen_WortBildMarke.png\" width=\"30%\" height=\"30%\">\n",
        "\n",
        "# Expression Bioinformatics WS23/24\n",
        "\n",
        "Martin Kahabka, Tom Wolf"
      ]
    },
    {
      "cell_type": "markdown",
      "id": "fed52d14-c504-446c-8640-44349d96ce34",
      "metadata": {
        "noteable": {
          "cell_type": "markdown"
        }
      },
      "source": [
        "---"
      ]
    },
    {
      "cell_type": "markdown",
      "id": "b00f60e3-68dd-4804-8f37-e36ca59bfe57",
      "metadata": {
        "noteable": {
          "cell_type": "markdown"
        }
      },
      "source": [
        "---"
      ]
    },
    {
      "cell_type": "markdown",
      "id": "b5d9db4d",
      "metadata": {},
      "source": [
        "Solutions:"
      ]
    },
    {
      "cell_type": "code",
      "execution_count": 13,
      "metadata": {
        "vscode": {
          "languageId": "r"
        }
      },
      "outputs": [
        {
          "name": "stdout",
          "output_type": "stream",
          "text": [
            "[1]  25  30  22 120  NA\n",
            "[1] \"Billy\"   \"Charlie\" \"Bob\"    \n"
          ]
        },
        {
          "name": "stdout",
          "output_type": "stream",
          "text": [
            "    Name Age Score Grade\n",
            "4 Martha 120     3   5.0\n",
            "5  Santa  NA    20   5.0\n",
            "     Name Age Score Grade\n",
            "2     Bob  30    85   2.0\n",
            "3 Charlie  22    95   1.0\n",
            "6   Billy  54    99   1.0\n",
            "[1] \"Master\" \"Master\"\n"
          ]
        },
        {
          "data": {
            "text/html": [
              "<table class=\"dataframe\">\n",
              "<caption>A data.frame: 5 × 5</caption>\n",
              "<thead>\n",
              "\t<tr><th scope=col>Name</th><th scope=col>Age</th><th scope=col>Score</th><th scope=col>Grade</th><th scope=col>Degree</th></tr>\n",
              "\t<tr><th scope=col>&lt;chr&gt;</th><th scope=col>&lt;dbl&gt;</th><th scope=col>&lt;dbl&gt;</th><th scope=col>&lt;chr&gt;</th><th scope=col>&lt;chr&gt;</th></tr>\n",
              "</thead>\n",
              "<tbody>\n",
              "\t<tr><td>Billy  </td><td> 54</td><td>99</td><td>1.0</td><td>Master  </td></tr>\n",
              "\t<tr><td>Bob    </td><td> 30</td><td>85</td><td>2.0</td><td>Master  </td></tr>\n",
              "\t<tr><td>Charlie</td><td> 22</td><td>95</td><td>1.0</td><td>Bachelor</td></tr>\n",
              "\t<tr><td>Martha </td><td>120</td><td> 3</td><td>5.0</td><td>Master  </td></tr>\n",
              "\t<tr><td>Santa  </td><td> NA</td><td>20</td><td>5.0</td><td>Master  </td></tr>\n",
              "</tbody>\n",
              "</table>\n"
            ],
            "text/latex": [
              "A data.frame: 5 × 5\n",
              "\\begin{tabular}{lllll}\n",
              " Name & Age & Score & Grade & Degree\\\\\n",
              " <chr> & <dbl> & <dbl> & <chr> & <chr>\\\\\n",
              "\\hline\n",
              "\t Billy   &  54 & 99 & 1.0 & Master  \\\\\n",
              "\t Bob     &  30 & 85 & 2.0 & Master  \\\\\n",
              "\t Charlie &  22 & 95 & 1.0 & Bachelor\\\\\n",
              "\t Martha  & 120 &  3 & 5.0 & Master  \\\\\n",
              "\t Santa   &  NA & 20 & 5.0 & Master  \\\\\n",
              "\\end{tabular}\n"
            ],
            "text/markdown": [
              "\n",
              "A data.frame: 5 × 5\n",
              "\n",
              "| Name &lt;chr&gt; | Age &lt;dbl&gt; | Score &lt;dbl&gt; | Grade &lt;chr&gt; | Degree &lt;chr&gt; |\n",
              "|---|---|---|---|---|\n",
              "| Billy   |  54 | 99 | 1.0 | Master   |\n",
              "| Bob     |  30 | 85 | 2.0 | Master   |\n",
              "| Charlie |  22 | 95 | 1.0 | Bachelor |\n",
              "| Martha  | 120 |  3 | 5.0 | Master   |\n",
              "| Santa   |  NA | 20 | 5.0 | Master   |\n",
              "\n"
            ],
            "text/plain": [
              "  Name    Age Score Grade Degree  \n",
              "1 Billy    54 99    1.0   Master  \n",
              "2 Bob      30 85    2.0   Master  \n",
              "3 Charlie  22 95    1.0   Bachelor\n",
              "4 Martha  120  3    5.0   Master  \n",
              "5 Santa    NA 20    5.0   Master  "
            ]
          },
          "metadata": {},
          "output_type": "display_data"
        },
        {
          "data": {
            "text/html": [
              "'Martha'"
            ],
            "text/latex": [
              "'Martha'"
            ],
            "text/markdown": [
              "'Martha'"
            ],
            "text/plain": [
              "[1] \"Martha\""
            ]
          },
          "metadata": {},
          "output_type": "display_data"
        },
        {
          "data": {
            "text/html": [
              "3"
            ],
            "text/latex": [
              "3"
            ],
            "text/markdown": [
              "3"
            ],
            "text/plain": [
              "[1] 3"
            ]
          },
          "metadata": {},
          "output_type": "display_data"
        },
        {
          "data": {
            "text/html": [
              "<style>\n",
              ".list-inline {list-style: none; margin:0; padding: 0}\n",
              ".list-inline>li {display: inline-block}\n",
              ".list-inline>li:not(:last-child)::after {content: \"\\00b7\"; padding: 0 .5ex}\n",
              "</style>\n",
              "<ol class=list-inline><li>2</li><li>4</li><li>8</li><li>16</li><li>32</li><li>64</li><li>128</li><li>256</li><li>512</li><li>1024</li><li>2048</li><li>4096</li><li>8192</li><li>16384</li><li>32768</li></ol>\n"
            ],
            "text/latex": [
              "\\begin{enumerate*}\n",
              "\\item 2\n",
              "\\item 4\n",
              "\\item 8\n",
              "\\item 16\n",
              "\\item 32\n",
              "\\item 64\n",
              "\\item 128\n",
              "\\item 256\n",
              "\\item 512\n",
              "\\item 1024\n",
              "\\item 2048\n",
              "\\item 4096\n",
              "\\item 8192\n",
              "\\item 16384\n",
              "\\item 32768\n",
              "\\end{enumerate*}\n"
            ],
            "text/markdown": [
              "1. 2\n",
              "2. 4\n",
              "3. 8\n",
              "4. 16\n",
              "5. 32\n",
              "6. 64\n",
              "7. 128\n",
              "8. 256\n",
              "9. 512\n",
              "10. 1024\n",
              "11. 2048\n",
              "12. 4096\n",
              "13. 8192\n",
              "14. 16384\n",
              "15. 32768\n",
              "\n",
              "\n"
            ],
            "text/plain": [
              " [1]     2     4     8    16    32    64   128   256   512  1024  2048  4096\n",
              "[13]  8192 16384 32768"
            ]
          },
          "metadata": {},
          "output_type": "display_data"
        }
      ],
      "source": [
        "#Task 1\n",
        "data <- data.frame(\n",
        "  Name = c(\"Alice\", \"Bob\", \"Charlie\", \"Martha\", \"Santa\"),\n",
        "  Age = c(25, 30, 22, 120, NA),\n",
        "  Score = c(90, 85, 95, 3, 20)\n",
        ")\n",
        "\n",
        "#Task 2\n",
        "print(data$Age)\n",
        "\n",
        "#Task 3\n",
        "new_entry <- data.frame(Name = \"Billy\", Age = 54, Score = 99)\n",
        "data <- rbind(data, new_entry)\n",
        "data <- data[data$Name != \"Alice\", ]\n",
        "\n",
        "#Task 4\n",
        "data$Grade <- ifelse(data$Score >= 90, \"1.0\", ifelse(data$Score >= 80, \"2.0\", \"5.0\"))\n",
        "\n",
        "#Apply:\n",
        "#data$Grade <- apply(data, 1, function(row) {\n",
        "#if (row[\"Score\"] >= 90) return(\"1.0\")\n",
        "#else if (row[\"Score\"] >= 80) return(\"2.0\")\n",
        "#else return(\"5.0\")\n",
        "#})\n",
        "\n",
        "#Task 5\n",
        "#Can you also solve this using the \"apply\" function?\n",
        "top_students <- data[order(data$Score, decreasing = TRUE), ][1:3, \"Name\"]\n",
        "print(top_students)\n",
        "\n",
        "#Apply:\n",
        "#students_grade_5 <- my_data[apply(my_data$Grade, 1, function(grade) grade == \"5.0\"), ]\n",
        "#print(students_grade_5)\n",
        "\n",
        "#Task 6\n",
        "students_grade_5 <- data[data$Grade == \"5.0\", ]\n",
        "print(students_grade_5)\n",
        "\n",
        "#Task 7\n",
        "avg_score <- mean(data$Score, na.rm = TRUE)\n",
        "above_avg_students <- data[data$Score > avg_score, ]\n",
        "print(above_avg_students)\n",
        "\n",
        "#Task 8\n",
        "degree_data <- data.frame(\n",
        "  Name = c(\"Alice\", \"Bob\", \"Charlie\", \"Martha\", \"Santa\", \"Billy\"),\n",
        "  Degree = c(\"Bachelor\", \"Master\", \"Bachelor\", \"Master\", \"Master\", \"Master\")\n",
        ")\n",
        "\n",
        "data <- merge(data, degree_data, by = \"Name\")\n",
        "\n",
        "#Task 9\n",
        "selected_students <- data[nchar(data$Name) >= 5 & data$Score %% 3 == 0, ]\n",
        "print(selected_students$Degree)\n",
        "\n",
        "# Task 10\n",
        "index <- which(data$Age == max(data$Age, na.rm = TRUE))\n",
        "data[index, 1]\n",
        "data[index, 3]\n",
        "# Task 11\n",
        "\n",
        "power <- function(x, y) {\n",
        "    return(x^y)\n",
        "  }\n",
        "\n",
        "x <- 2\n",
        "ranged <- seq(1, 15, 1)\n",
        "\n",
        "# define helper function to switch variables\n",
        "sapply(ranged, function(y) power(x, y))"
      ]
    },
    {
      "cell_type": "markdown",
      "id": "f20268cb",
      "metadata": {
        "vscode": {
          "languageId": "r"
        }
      },
      "source": [
        "<span style=\"color:orange\">To do: write text here</span>"
      ]
    }
  ],
  "metadata": {
    "kernel_info": {
      "name": "ir-4.3-noteable"
    },
    "kernelspec": {
      "display_name": "R",
      "identifier": "noteable",
      "language": "R",
      "language_version": "4.3.0",
      "name": "ir"
    },
    "language_info": {
      "codemirror_mode": "r",
      "file_extension": ".r",
      "mimetype": "text/x-r-source",
      "name": "R",
      "pygments_lexer": "r",
      "version": "4.3.1"
    },
    "noteable": {
      "last_delta_id": "3b634da6-70c9-4de1-8894-4079031260ef"
    },
    "nteract": {
      "version": "noteable@2.9.0"
    },
    "selected_hardware_size": "small"
  },
  "nbformat": 4,
  "nbformat_minor": 5
}
