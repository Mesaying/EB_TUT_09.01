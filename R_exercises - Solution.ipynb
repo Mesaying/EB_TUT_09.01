{
  "cells": [
    {
      "cell_type": "markdown",
      "id": "1a5fcff9-e252-4725-b0df-4383979746c7",
      "metadata": {
        "noteable": {
          "cell_type": "markdown"
        }
      },
      "source": [
        "<img src=\"https://upload.wikimedia.org/wikipedia/de/9/9c/UniversitaetTuebingen_WortBildMarke.png\" width=\"30%\" height=\"30%\">\n",
        "\n",
        "# Expression Bioinformatics WS23/24\n",
        "\n",
        "Martin Kahabka, Tom Wolf"
      ]
    },
    {
      "cell_type": "markdown",
      "id": "fed52d14-c504-446c-8640-44349d96ce34",
      "metadata": {
        "noteable": {
          "cell_type": "markdown"
        }
      },
      "source": [
        "---"
      ]
    },
    {
      "cell_type": "markdown",
      "id": "b00f60e3-68dd-4804-8f37-e36ca59bfe57",
      "metadata": {
        "noteable": {
          "cell_type": "markdown"
        }
      },
      "source": [
        "---"
      ]
    },
    {
      "cell_type": "markdown",
      "id": "b5d9db4d",
      "metadata": {},
      "source": [
        "Solutions:"
      ]
    },
    {
      "cell_type": "code",
      "execution_count": 2,
      "metadata": {
        "vscode": {
          "languageId": "r"
        }
      },
      "outputs": [
        {
          "ename": "ERROR",
          "evalue": "Error in parse(text = x, srcfile = src): <text>:22:1: Unerwartete(s) 'else'\n21: if (row[\"Score\"] >= 90) return(\"1.0\")\n22: else\n    ^\n",
          "output_type": "error",
          "traceback": [
            "Error in parse(text = x, srcfile = src): <text>:22:1: Unerwartete(s) 'else'\n21: if (row[\"Score\"] >= 90) return(\"1.0\")\n22: else\n    ^\nTraceback:\n"
          ]
        }
      ],
      "source": [
        "#Task 1\n",
        "data <- data.frame(\n",
        "  Name = c(\"Alice\", \"Bob\", \"Charlie\", \"Martha\", \"Santa\"),\n",
        "  Age = c(25, 30, 22, 120, NA),\n",
        "  Score = c(90, 85, 95, 3, 20)\n",
        ")\n",
        "\n",
        "#Task 2\n",
        "print(data$Age)\n",
        "\n",
        "#Task 3\n",
        "new_entry <- data.frame(Name = \"Billy\", Age = 54, Score = 99)\n",
        "data <- rbind(data, new_entry)\n",
        "data <- data[data$Name != \"Alice\", ]\n",
        "\n",
        "#Task 4\n",
        "data$Grade <- ifelse(data$Score >= 90, \"1.0\", ifelse(data$Score >= 80, \"2.0\", \"5.0\"))\n",
        "\n",
        "#Apply:\n",
        "#data$Grade <- apply(data, 1, function(row) {\n",
        "#if (row[\"Score\"] >= 90) return(\"1.0\")\n",
        "#else if (row[\"Score\"] >= 80) return(\"2.0\")\n",
        "#else return(\"5.0\")\n",
        "#})\n",
        "\n",
        "#Task 5\n",
        "#Can you also solve this using the \"apply\" function?\n",
        "top_students <- data[order(data$Score, decreasing = TRUE), ][1:3, \"Name\"]\n",
        "print(top_students)\n",
        "\n",
        "#Apply:\n",
        "#students_grade_5 <- my_data[apply(my_data$Grade, 1, function(grade) grade == \"5.0\"), ]\n",
        "#print(students_grade_5)\n",
        "\n",
        "#Task 6\n",
        "students_grade_5 <- data[data$Grade == \"5.0\", ]\n",
        "print(students_grade_5)\n",
        "\n",
        "#Task 7\n",
        "avg_score <- mean(data$Score, na.rm = TRUE)\n",
        "above_avg_students <- data[data$Score > avg_score, ]\n",
        "print(above_avg_students)\n",
        "\n",
        "#Task 8\n",
        "degree_data <- data.frame(\n",
        "  Name = c(\"Alice\", \"Bob\", \"Charlie\", \"Martha\", \"Santa\", \"Billy\"),\n",
        "  Degree = c(\"Bachelor\", \"Master\", \"Bachelor\", \"Master\", \"Master\", \"Master\")\n",
        ")\n",
        "\n",
        "data <- merge(data, degree_data, by = \"Name\")\n",
        "\n",
        "#Task 9\n",
        "selected_students <- data[nchar(data$Name) >= 5 & data$Score %% 3 == 0, ]\n",
        "print(selected_students$Degree)"
      ]
    },
    {
      "cell_type": "markdown",
      "id": "f20268cb",
      "metadata": {
        "vscode": {
          "languageId": "r"
        }
      },
      "source": [
        "<span style=\"color:orange\">To do: write text here</span>"
      ]
    }
  ],
  "metadata": {
    "kernel_info": {
      "name": "ir-4.3-noteable"
    },
    "kernelspec": {
      "display_name": "R",
      "identifier": "noteable",
      "language": "R",
      "language_version": "4.3.0",
      "name": "ir"
    },
    "language_info": {
      "codemirror_mode": "r",
      "file_extension": ".r",
      "mimetype": "text/x-r-source",
      "name": "R",
      "pygments_lexer": "r",
      "version": "4.3.1"
    },
    "noteable": {
      "last_delta_id": "3b634da6-70c9-4de1-8894-4079031260ef"
    },
    "nteract": {
      "version": "noteable@2.9.0"
    },
    "selected_hardware_size": "small"
  },
  "nbformat": 4,
  "nbformat_minor": 5
}
