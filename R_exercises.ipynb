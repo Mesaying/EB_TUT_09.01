{
  "cells": [
    {
      "cell_type": "markdown",
      "id": "1a5fcff9-e252-4725-b0df-4383979746c7",
      "metadata": {
        "noteable": {
          "cell_type": "markdown"
        }
      },
      "source": [
        "<img src=\"https://upload.wikimedia.org/wikipedia/de/9/9c/UniversitaetTuebingen_WortBildMarke.png\" width=\"30%\" height=\"30%\">\n",
        "\n",
        "# Expression Bioinformatics WS23/24\n",
        "\n",
        "Martin Kahabka, Tom Wolf"
      ]
    },
    {
      "cell_type": "markdown",
      "id": "fed52d14-c504-446c-8640-44349d96ce34",
      "metadata": {
        "noteable": {
          "cell_type": "markdown"
        }
      },
      "source": [
        "---"
      ]
    },
    {
      "cell_type": "markdown",
      "id": "b00f60e3-68dd-4804-8f37-e36ca59bfe57",
      "metadata": {
        "noteable": {
          "cell_type": "markdown"
        }
      },
      "source": [
        "---"
      ]
    },
    {
      "cell_type": "markdown",
      "id": "b5d9db4d",
      "metadata": {},
      "source": [
        "<span style=\"color:orange\">To do: write text here</span>"
      ]
    },
    {
      "cell_type": "markdown",
      "id": "2b5c4789",
      "metadata": {},
      "source": [
        "## Practical Assignment \n",
        "\n",
        "### Task 1 (4P) Gene filtering\n",
        "TASK 1"
      ]
    },
    {
      "cell_type": "code",
      "execution_count": null,
      "metadata": {
        "vscode": {
          "languageId": "r"
        }
      },
      "outputs": [],
      "source": []
    },
    {
      "cell_type": "markdown",
      "id": "f20268cb",
      "metadata": {
        "vscode": {
          "languageId": "r"
        }
      },
      "source": [
        "<span style=\"color:orange\">To do: write text here</span>"
      ]
    }
  ],
  "metadata": {
    "kernel_info": {
      "name": "ir-4.3-noteable"
    },
    "kernelspec": {
      "display_name": "R",
      "identifier": "noteable",
      "language": "R",
      "language_version": "4.3.0",
      "name": "ir"
    },
    "language_info": {
      "codemirror_mode": "r",
      "file_extension": ".r",
      "mimetype": "text/x-r-source",
      "name": "R",
      "pygments_lexer": "r",
      "version": "4.3.1"
    },
    "noteable": {
      "last_delta_id": "3b634da6-70c9-4de1-8894-4079031260ef"
    },
    "nteract": {
      "version": "noteable@2.9.0"
    },
    "selected_hardware_size": "small"
  },
  "nbformat": 4,
  "nbformat_minor": 5
}
