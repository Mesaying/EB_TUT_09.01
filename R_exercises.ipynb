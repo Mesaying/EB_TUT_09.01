{
  "cells": [
    {
      "cell_type": "markdown",
      "id": "1a5fcff9-e252-4725-b0df-4383979746c7",
      "metadata": {
        "noteable": {
          "cell_type": "markdown"
        }
      },
      "source": [
        "<img src=\"https://upload.wikimedia.org/wikipedia/de/9/9c/UniversitaetTuebingen_WortBildMarke.png\" width=\"30%\" height=\"30%\">\n",
        "\n",
        "# Expression Bioinformatics WS23/24\n",
        "\n",
        "Martin Kahabka, Tom Wolf"
      ]
    },
    {
      "cell_type": "markdown",
      "id": "fed52d14-c504-446c-8640-44349d96ce34",
      "metadata": {
        "noteable": {
          "cell_type": "markdown"
        }
      },
      "source": [
        "---"
      ]
    },
    {
      "cell_type": "markdown",
      "id": "b00f60e3-68dd-4804-8f37-e36ca59bfe57",
      "metadata": {
        "noteable": {
          "cell_type": "markdown"
        }
      },
      "source": [
        "---"
      ]
    },
    {
      "cell_type": "markdown",
      "id": "b5d9db4d",
      "metadata": {},
      "source": [
        "<span style=\"color:orange\">To do: write text here</span>"
      ]
    },
    {
      "cell_type": "markdown",
      "id": "2b5c4789",
      "metadata": {},
      "source": [
        "## Practical Assignment \n",
        "\n",
        "### Task 1 (4P) Data Frames\n",
        "TASK 1\n",
        "Create a Data frame with three columns \"Name\", \"Age\", \"Score\".\n",
        "\n",
        "Name    |  Age  |  Score|\n",
        "--------|-------|-------|\n",
        "Alice   | 25    |  90   |\n",
        "Bob     | 30    |  85   |\n",
        "Charlie | 22    |  95   | \n",
        "Martha  |  120  |   6   |  \n",
        "Santa   |  NA   |  20   |  \n",
        "\n",
        "TASK 2\n",
        "Print all ages from the data frame.\n",
        "\n",
        "TASK 3\n",
        "Insert a new Entry into the data frame.\n",
        "\n",
        "Name  |  Age   |  Score |\n",
        "------|--------|--------|\n",
        "Billy |  54    | 99     |\n",
        "\n",
        "Remove Alice's row from the data frame.\n",
        "\n",
        "Task 4\n",
        "Add a new column Grade to the data frame where each score >= 90 gets a \"1.0\" every score between 80 and 90 gets a \"2.0\" and every score below 80 gets a \"5.0\".\n",
        "Can you solve this task using the Apply() function?\n",
        "\n",
        "Task 5\n",
        "Print the names of the 3 students with the best scores in order from best to 3rd best grade.\n",
        "Can you also solve this using the \"apply\" function?\n",
        "\n",
        "Task 6\n",
        "Print all information about every student with the grade \"5.0\".\n",
        "\n",
        "Task 7\n",
        "Print all information about every student that has an above average score.\n",
        "\n",
        "Task 8\n",
        "Name    |Degree   |\n",
        "--------|---------|\n",
        "Bob     |Master   |\n",
        "Charlie |Bachelor |\n",
        "Martha  |Master   |\n",
        "Santa   |Master   |\n",
        "Billy   |Master   |\n",
        "\n",
        "\n",
        "Merge the above data frame and the old data frame by names.\n",
        "\n",
        "Task 9\n",
        "Print the degrees of every student whose name is at least 5 characters long and also has a score that is divisible by 3.\n",
        "\n",
        "Task 10 \n",
        "Print the Name and score about the oldest person\n",
        "\n",
        "Task 11\n",
        "Given the function and array <br>\n",
        "Iterate over the function with the apply function, but iterate over the second variable (y) instead of the first (x)"
      ]
    },
    {
      "cell_type": "code",
      "execution_count": 1,
      "metadata": {
        "vscode": {
          "languageId": "r"
        }
      },
      "outputs": [
        {
          "name": "stdout",
          "output_type": "stream",
          "text": [
            " [1]  1  2  3  4  5  6  7  8  9 10 11 12 13 14 15\n"
          ]
        }
      ],
      "source": [
        "square <- function(x, y) {\n",
        "    return(x^y)\n",
        "    }\n",
        "\n",
        "x <- 2\n",
        "ranged <- seq(1, 15, 1)"
      ]
    },
    {
      "cell_type": "markdown",
      "id": "f20268cb",
      "metadata": {
        "vscode": {
          "languageId": "r"
        }
      },
      "source": [
        "<span style=\"color:orange\">To do: write text here</span>"
      ]
    }
  ],
  "metadata": {
    "kernel_info": {
      "name": "ir-4.3-noteable"
    },
    "kernelspec": {
      "display_name": "R",
      "identifier": "noteable",
      "language": "R",
      "language_version": "4.3.0",
      "name": "ir"
    },
    "language_info": {
      "codemirror_mode": "r",
      "file_extension": ".r",
      "mimetype": "text/x-r-source",
      "name": "R",
      "pygments_lexer": "r",
      "version": "4.3.1"
    },
    "noteable": {
      "last_delta_id": "3b634da6-70c9-4de1-8894-4079031260ef"
    },
    "nteract": {
      "version": "noteable@2.9.0"
    },
    "selected_hardware_size": "small"
  },
  "nbformat": 4,
  "nbformat_minor": 5
}
