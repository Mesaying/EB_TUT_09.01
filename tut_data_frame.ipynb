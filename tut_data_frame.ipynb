{
 "cells": [
  {
   "cell_type": "markdown",
   "metadata": {},
   "source": [
    "**Create data frame**"
   ]
  },
  {
   "cell_type": "code",
   "execution_count": 1,
   "metadata": {
    "vscode": {
     "languageId": "r"
    }
   },
   "outputs": [
    {
     "data": {
      "text/html": [
       "<table class=\"dataframe\">\n",
       "<caption>A data.frame: 4 × 5</caption>\n",
       "<thead>\n",
       "\t<tr><th scope=col>Blood_Pressure</th><th scope=col>Cholesterol_Level</th><th scope=col>Temperature</th><th scope=col>Heart_Rate</th><th scope=col>Oxygen_Saturation</th></tr>\n",
       "\t<tr><th scope=col>&lt;dbl&gt;</th><th scope=col>&lt;dbl&gt;</th><th scope=col>&lt;dbl&gt;</th><th scope=col>&lt;dbl&gt;</th><th scope=col>&lt;dbl&gt;</th></tr>\n",
       "</thead>\n",
       "<tbody>\n",
       "\t<tr><td>150</td><td>10</td><td>35</td><td>100</td><td>1</td></tr>\n",
       "\t<tr><td>120</td><td>20</td><td>37</td><td>120</td><td>1</td></tr>\n",
       "\t<tr><td>140</td><td>40</td><td>38</td><td> 80</td><td>3</td></tr>\n",
       "\t<tr><td>130</td><td>30</td><td>40</td><td> 50</td><td>4</td></tr>\n",
       "</tbody>\n",
       "</table>\n"
      ],
      "text/latex": [
       "A data.frame: 4 × 5\n",
       "\\begin{tabular}{lllll}\n",
       " Blood\\_Pressure & Cholesterol\\_Level & Temperature & Heart\\_Rate & Oxygen\\_Saturation\\\\\n",
       " <dbl> & <dbl> & <dbl> & <dbl> & <dbl>\\\\\n",
       "\\hline\n",
       "\t 150 & 10 & 35 & 100 & 1\\\\\n",
       "\t 120 & 20 & 37 & 120 & 1\\\\\n",
       "\t 140 & 40 & 38 &  80 & 3\\\\\n",
       "\t 130 & 30 & 40 &  50 & 4\\\\\n",
       "\\end{tabular}\n"
      ],
      "text/markdown": [
       "\n",
       "A data.frame: 4 × 5\n",
       "\n",
       "| Blood_Pressure &lt;dbl&gt; | Cholesterol_Level &lt;dbl&gt; | Temperature &lt;dbl&gt; | Heart_Rate &lt;dbl&gt; | Oxygen_Saturation &lt;dbl&gt; |\n",
       "|---|---|---|---|---|\n",
       "| 150 | 10 | 35 | 100 | 1 |\n",
       "| 120 | 20 | 37 | 120 | 1 |\n",
       "| 140 | 40 | 38 |  80 | 3 |\n",
       "| 130 | 30 | 40 |  50 | 4 |\n",
       "\n"
      ],
      "text/plain": [
       "  Blood_Pressure Cholesterol_Level Temperature Heart_Rate Oxygen_Saturation\n",
       "1 150            10                35          100        1                \n",
       "2 120            20                37          120        1                \n",
       "3 140            40                38           80        3                \n",
       "4 130            30                40           50        4                "
      ]
     },
     "metadata": {},
     "output_type": "display_data"
    }
   ],
   "source": [
    "medical_data <- data.frame(\n",
    "    Blood_Pressure = c(150, 120, 140, 130),\n",
    "    Cholesterol_Level = c(10, 20, 40, 30),\n",
    "    Temperature = c(35, 37, 38, 40),\n",
    "    Heart_Rate = c(100, 120, 80, 50),\n",
    "    Oxygen_Saturation = c(1, 1, 3, 4)\n",
    ")\n",
    "\n",
    "medical_data"
   ]
  },
  {
   "cell_type": "markdown",
   "metadata": {},
   "source": [
    "**Access elements**"
   ]
  },
  {
   "cell_type": "code",
   "execution_count": 2,
   "metadata": {
    "vscode": {
     "languageId": "r"
    }
   },
   "outputs": [
    {
     "data": {
      "text/html": [
       "150"
      ],
      "text/latex": [
       "150"
      ],
      "text/markdown": [
       "150"
      ],
      "text/plain": [
       "[1] 150"
      ]
     },
     "metadata": {},
     "output_type": "display_data"
    },
    {
     "data": {
      "text/html": [
       "<style>\n",
       ".list-inline {list-style: none; margin:0; padding: 0}\n",
       ".list-inline>li {display: inline-block}\n",
       ".list-inline>li:not(:last-child)::after {content: \"\\00b7\"; padding: 0 .5ex}\n",
       "</style>\n",
       "<ol class=list-inline><li>150</li><li>120</li></ol>\n"
      ],
      "text/latex": [
       "\\begin{enumerate*}\n",
       "\\item 150\n",
       "\\item 120\n",
       "\\end{enumerate*}\n"
      ],
      "text/markdown": [
       "1. 150\n",
       "2. 120\n",
       "\n",
       "\n"
      ],
      "text/plain": [
       "[1] 150 120"
      ]
     },
     "metadata": {},
     "output_type": "display_data"
    },
    {
     "data": {
      "text/html": [
       "<table class=\"dataframe\">\n",
       "<caption>A data.frame: 2 × 3</caption>\n",
       "<thead>\n",
       "\t<tr><th></th><th scope=col>Blood_Pressure</th><th scope=col>Cholesterol_Level</th><th scope=col>Temperature</th></tr>\n",
       "\t<tr><th></th><th scope=col>&lt;dbl&gt;</th><th scope=col>&lt;dbl&gt;</th><th scope=col>&lt;dbl&gt;</th></tr>\n",
       "</thead>\n",
       "<tbody>\n",
       "\t<tr><th scope=row>2</th><td>120</td><td>20</td><td>37</td></tr>\n",
       "\t<tr><th scope=row>3</th><td>140</td><td>40</td><td>38</td></tr>\n",
       "</tbody>\n",
       "</table>\n"
      ],
      "text/latex": [
       "A data.frame: 2 × 3\n",
       "\\begin{tabular}{r|lll}\n",
       "  & Blood\\_Pressure & Cholesterol\\_Level & Temperature\\\\\n",
       "  & <dbl> & <dbl> & <dbl>\\\\\n",
       "\\hline\n",
       "\t2 & 120 & 20 & 37\\\\\n",
       "\t3 & 140 & 40 & 38\\\\\n",
       "\\end{tabular}\n"
      ],
      "text/markdown": [
       "\n",
       "A data.frame: 2 × 3\n",
       "\n",
       "| <!--/--> | Blood_Pressure &lt;dbl&gt; | Cholesterol_Level &lt;dbl&gt; | Temperature &lt;dbl&gt; |\n",
       "|---|---|---|---|\n",
       "| 2 | 120 | 20 | 37 |\n",
       "| 3 | 140 | 40 | 38 |\n",
       "\n"
      ],
      "text/plain": [
       "  Blood_Pressure Cholesterol_Level Temperature\n",
       "2 120            20                37         \n",
       "3 140            40                38         "
      ]
     },
     "metadata": {},
     "output_type": "display_data"
    }
   ],
   "source": [
    "medical_data$Blood_Pressure[1]\n",
    "medical_data[[\"Blood_Pressure\"]][c(1, 2)]\n",
    "\n",
    "\n",
    "medical_data[c(2, 3), c(1, 2, 3)]"
   ]
  },
  {
   "cell_type": "markdown",
   "metadata": {},
   "source": [
    "**Add/remove column/row**"
   ]
  },
  {
   "cell_type": "code",
   "execution_count": 3,
   "metadata": {
    "vscode": {
     "languageId": "r"
    }
   },
   "outputs": [
    {
     "data": {
      "text/html": [
       "<table class=\"dataframe\">\n",
       "<caption>A data.frame: 4 × 8</caption>\n",
       "<thead>\n",
       "\t<tr><th scope=col>Blood_Pressure</th><th scope=col>Cholesterol_Level</th><th scope=col>Temperature</th><th scope=col>Heart_Rate</th><th scope=col>Oxygen_Saturation</th><th scope=col>age</th><th scope=col>avg_sleep</th><th scope=col>diet</th></tr>\n",
       "\t<tr><th scope=col>&lt;dbl&gt;</th><th scope=col>&lt;dbl&gt;</th><th scope=col>&lt;dbl&gt;</th><th scope=col>&lt;dbl&gt;</th><th scope=col>&lt;dbl&gt;</th><th scope=col>&lt;dbl&gt;</th><th scope=col>&lt;dbl&gt;</th><th scope=col>&lt;chr&gt;</th></tr>\n",
       "</thead>\n",
       "<tbody>\n",
       "\t<tr><td>150</td><td>10</td><td>35</td><td>100</td><td>1</td><td>50</td><td>5</td><td>yes      </td></tr>\n",
       "\t<tr><td>120</td><td>20</td><td>37</td><td>120</td><td>1</td><td>60</td><td>7</td><td>no       </td></tr>\n",
       "\t<tr><td>140</td><td>40</td><td>38</td><td> 80</td><td>3</td><td>30</td><td>8</td><td>no       </td></tr>\n",
       "\t<tr><td>130</td><td>30</td><td>40</td><td> 50</td><td>4</td><td>40</td><td>8</td><td>temporary</td></tr>\n",
       "</tbody>\n",
       "</table>\n"
      ],
      "text/latex": [
       "A data.frame: 4 × 8\n",
       "\\begin{tabular}{llllllll}\n",
       " Blood\\_Pressure & Cholesterol\\_Level & Temperature & Heart\\_Rate & Oxygen\\_Saturation & age & avg\\_sleep & diet\\\\\n",
       " <dbl> & <dbl> & <dbl> & <dbl> & <dbl> & <dbl> & <dbl> & <chr>\\\\\n",
       "\\hline\n",
       "\t 150 & 10 & 35 & 100 & 1 & 50 & 5 & yes      \\\\\n",
       "\t 120 & 20 & 37 & 120 & 1 & 60 & 7 & no       \\\\\n",
       "\t 140 & 40 & 38 &  80 & 3 & 30 & 8 & no       \\\\\n",
       "\t 130 & 30 & 40 &  50 & 4 & 40 & 8 & temporary\\\\\n",
       "\\end{tabular}\n"
      ],
      "text/markdown": [
       "\n",
       "A data.frame: 4 × 8\n",
       "\n",
       "| Blood_Pressure &lt;dbl&gt; | Cholesterol_Level &lt;dbl&gt; | Temperature &lt;dbl&gt; | Heart_Rate &lt;dbl&gt; | Oxygen_Saturation &lt;dbl&gt; | age &lt;dbl&gt; | avg_sleep &lt;dbl&gt; | diet &lt;chr&gt; |\n",
       "|---|---|---|---|---|---|---|---|\n",
       "| 150 | 10 | 35 | 100 | 1 | 50 | 5 | yes       |\n",
       "| 120 | 20 | 37 | 120 | 1 | 60 | 7 | no        |\n",
       "| 140 | 40 | 38 |  80 | 3 | 30 | 8 | no        |\n",
       "| 130 | 30 | 40 |  50 | 4 | 40 | 8 | temporary |\n",
       "\n"
      ],
      "text/plain": [
       "  Blood_Pressure Cholesterol_Level Temperature Heart_Rate Oxygen_Saturation age\n",
       "1 150            10                35          100        1                 50 \n",
       "2 120            20                37          120        1                 60 \n",
       "3 140            40                38           80        3                 30 \n",
       "4 130            30                40           50        4                 40 \n",
       "  avg_sleep diet     \n",
       "1 5         yes      \n",
       "2 7         no       \n",
       "3 8         no       \n",
       "4 8         temporary"
      ]
     },
     "metadata": {},
     "output_type": "display_data"
    }
   ],
   "source": [
    "# same as adding/removing a column/row from a table\n",
    "# adding/removing columns by vector\n",
    "# best way\n",
    "medical_data$age <- c(50, 60, 30, 40)\n",
    "\n",
    "# use carefully, add lead to several copies of the variable\n",
    "medical_data <- data.frame(medical_data, avg_sleep = c(5, 7, 8, 8))\n",
    "medical_data <- cbind(medical_data, diet = c(\"yes\", \"no\", \"no\", \"temporary\"))\n",
    "\n",
    "medical_data"
   ]
  },
  {
   "cell_type": "code",
   "execution_count": 4,
   "metadata": {
    "vscode": {
     "languageId": "r"
    }
   },
   "outputs": [
    {
     "data": {
      "text/html": [
       "<table class=\"dataframe\">\n",
       "<caption>A data.frame: 4 × 6</caption>\n",
       "<thead>\n",
       "\t<tr><th></th><th scope=col>Blood_Pressure</th><th scope=col>Cholesterol_Level</th><th scope=col>Temperature</th><th scope=col>Heart_Rate</th><th scope=col>avg_sleep</th><th scope=col>diet</th></tr>\n",
       "\t<tr><th></th><th scope=col>&lt;dbl&gt;</th><th scope=col>&lt;dbl&gt;</th><th scope=col>&lt;dbl&gt;</th><th scope=col>&lt;dbl&gt;</th><th scope=col>&lt;dbl&gt;</th><th scope=col>&lt;chr&gt;</th></tr>\n",
       "</thead>\n",
       "<tbody>\n",
       "\t<tr><th scope=row>1</th><td>150</td><td>10</td><td>35</td><td>100</td><td>5</td><td>yes      </td></tr>\n",
       "\t<tr><th scope=row>2</th><td>120</td><td>20</td><td>37</td><td>120</td><td>7</td><td>no       </td></tr>\n",
       "\t<tr><th scope=row>3</th><td>140</td><td>40</td><td>38</td><td> 80</td><td>8</td><td>no       </td></tr>\n",
       "\t<tr><th scope=row>4</th><td>130</td><td>30</td><td>40</td><td> 50</td><td>8</td><td>temporary</td></tr>\n",
       "</tbody>\n",
       "</table>\n"
      ],
      "text/latex": [
       "A data.frame: 4 × 6\n",
       "\\begin{tabular}{r|llllll}\n",
       "  & Blood\\_Pressure & Cholesterol\\_Level & Temperature & Heart\\_Rate & avg\\_sleep & diet\\\\\n",
       "  & <dbl> & <dbl> & <dbl> & <dbl> & <dbl> & <chr>\\\\\n",
       "\\hline\n",
       "\t1 & 150 & 10 & 35 & 100 & 5 & yes      \\\\\n",
       "\t2 & 120 & 20 & 37 & 120 & 7 & no       \\\\\n",
       "\t3 & 140 & 40 & 38 &  80 & 8 & no       \\\\\n",
       "\t4 & 130 & 30 & 40 &  50 & 8 & temporary\\\\\n",
       "\\end{tabular}\n"
      ],
      "text/markdown": [
       "\n",
       "A data.frame: 4 × 6\n",
       "\n",
       "| <!--/--> | Blood_Pressure &lt;dbl&gt; | Cholesterol_Level &lt;dbl&gt; | Temperature &lt;dbl&gt; | Heart_Rate &lt;dbl&gt; | avg_sleep &lt;dbl&gt; | diet &lt;chr&gt; |\n",
       "|---|---|---|---|---|---|---|\n",
       "| 1 | 150 | 10 | 35 | 100 | 5 | yes       |\n",
       "| 2 | 120 | 20 | 37 | 120 | 7 | no        |\n",
       "| 3 | 140 | 40 | 38 |  80 | 8 | no        |\n",
       "| 4 | 130 | 30 | 40 |  50 | 8 | temporary |\n",
       "\n"
      ],
      "text/plain": [
       "  Blood_Pressure Cholesterol_Level Temperature Heart_Rate avg_sleep diet     \n",
       "1 150            10                35          100        5         yes      \n",
       "2 120            20                37          120        7         no       \n",
       "3 140            40                38           80        8         no       \n",
       "4 130            30                40           50        8         temporary"
      ]
     },
     "metadata": {},
     "output_type": "display_data"
    }
   ],
   "source": [
    "# removing cells\n",
    "if (\"Oxygen_Saturation\" %in% names(medical_data)) {\n",
    "    medical_data <- subset(medical_data, select = -c(age, Oxygen_Saturation))\n",
    "}\n",
    "\n",
    "medical_data"
   ]
  },
  {
   "cell_type": "code",
   "execution_count": 5,
   "metadata": {
    "vscode": {
     "languageId": "r"
    }
   },
   "outputs": [
    {
     "data": {
      "text/html": [
       "<table class=\"dataframe\">\n",
       "<caption>A data.frame: 7 × 6</caption>\n",
       "<thead>\n",
       "\t<tr><th scope=col>Blood_Pressure</th><th scope=col>Cholesterol_Level</th><th scope=col>Temperature</th><th scope=col>Heart_Rate</th><th scope=col>avg_sleep</th><th scope=col>diet</th></tr>\n",
       "\t<tr><th scope=col>&lt;chr&gt;</th><th scope=col>&lt;chr&gt;</th><th scope=col>&lt;chr&gt;</th><th scope=col>&lt;chr&gt;</th><th scope=col>&lt;chr&gt;</th><th scope=col>&lt;chr&gt;</th></tr>\n",
       "</thead>\n",
       "<tbody>\n",
       "\t<tr><td>150</td><td>10</td><td>35</td><td>100</td><td>5</td><td>yes      </td></tr>\n",
       "\t<tr><td>120</td><td>20</td><td>37</td><td>120</td><td>7</td><td>no       </td></tr>\n",
       "\t<tr><td>140</td><td>40</td><td>38</td><td>80 </td><td>8</td><td>no       </td></tr>\n",
       "\t<tr><td>130</td><td>30</td><td>40</td><td>50 </td><td>8</td><td>temporary</td></tr>\n",
       "\t<tr><td>130</td><td>10</td><td>37</td><td>110</td><td>8</td><td>no       </td></tr>\n",
       "\t<tr><td>120</td><td>30</td><td>41</td><td>120</td><td>6</td><td>no       </td></tr>\n",
       "\t<tr><td>120</td><td>50</td><td>32</td><td>140</td><td>6</td><td>no       </td></tr>\n",
       "</tbody>\n",
       "</table>\n"
      ],
      "text/latex": [
       "A data.frame: 7 × 6\n",
       "\\begin{tabular}{llllll}\n",
       " Blood\\_Pressure & Cholesterol\\_Level & Temperature & Heart\\_Rate & avg\\_sleep & diet\\\\\n",
       " <chr> & <chr> & <chr> & <chr> & <chr> & <chr>\\\\\n",
       "\\hline\n",
       "\t 150 & 10 & 35 & 100 & 5 & yes      \\\\\n",
       "\t 120 & 20 & 37 & 120 & 7 & no       \\\\\n",
       "\t 140 & 40 & 38 & 80  & 8 & no       \\\\\n",
       "\t 130 & 30 & 40 & 50  & 8 & temporary\\\\\n",
       "\t 130 & 10 & 37 & 110 & 8 & no       \\\\\n",
       "\t 120 & 30 & 41 & 120 & 6 & no       \\\\\n",
       "\t 120 & 50 & 32 & 140 & 6 & no       \\\\\n",
       "\\end{tabular}\n"
      ],
      "text/markdown": [
       "\n",
       "A data.frame: 7 × 6\n",
       "\n",
       "| Blood_Pressure &lt;chr&gt; | Cholesterol_Level &lt;chr&gt; | Temperature &lt;chr&gt; | Heart_Rate &lt;chr&gt; | avg_sleep &lt;chr&gt; | diet &lt;chr&gt; |\n",
       "|---|---|---|---|---|---|\n",
       "| 150 | 10 | 35 | 100 | 5 | yes       |\n",
       "| 120 | 20 | 37 | 120 | 7 | no        |\n",
       "| 140 | 40 | 38 | 80  | 8 | no        |\n",
       "| 130 | 30 | 40 | 50  | 8 | temporary |\n",
       "| 130 | 10 | 37 | 110 | 8 | no        |\n",
       "| 120 | 30 | 41 | 120 | 6 | no        |\n",
       "| 120 | 50 | 32 | 140 | 6 | no        |\n",
       "\n"
      ],
      "text/plain": [
       "  Blood_Pressure Cholesterol_Level Temperature Heart_Rate avg_sleep diet     \n",
       "1 150            10                35          100        5         yes      \n",
       "2 120            20                37          120        7         no       \n",
       "3 140            40                38          80         8         no       \n",
       "4 130            30                40          50         8         temporary\n",
       "5 130            10                37          110        8         no       \n",
       "6 120            30                41          120        6         no       \n",
       "7 120            50                32          140        6         no       "
      ]
     },
     "metadata": {},
     "output_type": "display_data"
    }
   ],
   "source": [
    "# adding rows by vector\n",
    "medical_data <- rbind(medical_data, c(130, 10, 37, 110, 8, \"no\"))\n",
    "\n",
    "## adding rows by data frame\n",
    "new_data <- data.frame(\n",
    "    Blood_Pressure = c(120, 120),\n",
    "    Cholesterol_Level = c(30, 50),\n",
    "    Temperature = c(41, 32),\n",
    "    Heart_Rate = c(120, 140),\n",
    "    avg_sleep = c(6, 6),\n",
    "    diet = c(\"no\", \"no\")\n",
    ")\n",
    "medical_data <- rbind(medical_data, new_data)\n",
    "medical_data"
   ]
  },
  {
   "cell_type": "code",
   "execution_count": 6,
   "metadata": {
    "vscode": {
     "languageId": "r"
    }
   },
   "outputs": [
    {
     "data": {
      "text/html": [
       "<table class=\"dataframe\">\n",
       "<caption>A data.frame: 7 × 6</caption>\n",
       "<thead>\n",
       "\t<tr><th scope=col>Blood_Pressure</th><th scope=col>Cholesterol_Level</th><th scope=col>Temperature</th><th scope=col>Heart_Rate</th><th scope=col>avg_sleep</th><th scope=col>diet</th></tr>\n",
       "\t<tr><th scope=col>&lt;chr&gt;</th><th scope=col>&lt;chr&gt;</th><th scope=col>&lt;chr&gt;</th><th scope=col>&lt;chr&gt;</th><th scope=col>&lt;chr&gt;</th><th scope=col>&lt;chr&gt;</th></tr>\n",
       "</thead>\n",
       "<tbody>\n",
       "\t<tr><td>150</td><td>10</td><td>35</td><td>100</td><td>5</td><td>yes      </td></tr>\n",
       "\t<tr><td>120</td><td>20</td><td>37</td><td>120</td><td>7</td><td>no       </td></tr>\n",
       "\t<tr><td>140</td><td>40</td><td>38</td><td>80 </td><td>8</td><td>no       </td></tr>\n",
       "\t<tr><td>130</td><td>30</td><td>40</td><td>50 </td><td>8</td><td>temporary</td></tr>\n",
       "\t<tr><td>130</td><td>10</td><td>37</td><td>110</td><td>8</td><td>no       </td></tr>\n",
       "\t<tr><td>120</td><td>30</td><td>41</td><td>120</td><td>6</td><td>no       </td></tr>\n",
       "\t<tr><td>120</td><td>50</td><td>32</td><td>140</td><td>6</td><td>no       </td></tr>\n",
       "</tbody>\n",
       "</table>\n"
      ],
      "text/latex": [
       "A data.frame: 7 × 6\n",
       "\\begin{tabular}{llllll}\n",
       " Blood\\_Pressure & Cholesterol\\_Level & Temperature & Heart\\_Rate & avg\\_sleep & diet\\\\\n",
       " <chr> & <chr> & <chr> & <chr> & <chr> & <chr>\\\\\n",
       "\\hline\n",
       "\t 150 & 10 & 35 & 100 & 5 & yes      \\\\\n",
       "\t 120 & 20 & 37 & 120 & 7 & no       \\\\\n",
       "\t 140 & 40 & 38 & 80  & 8 & no       \\\\\n",
       "\t 130 & 30 & 40 & 50  & 8 & temporary\\\\\n",
       "\t 130 & 10 & 37 & 110 & 8 & no       \\\\\n",
       "\t 120 & 30 & 41 & 120 & 6 & no       \\\\\n",
       "\t 120 & 50 & 32 & 140 & 6 & no       \\\\\n",
       "\\end{tabular}\n"
      ],
      "text/markdown": [
       "\n",
       "A data.frame: 7 × 6\n",
       "\n",
       "| Blood_Pressure &lt;chr&gt; | Cholesterol_Level &lt;chr&gt; | Temperature &lt;chr&gt; | Heart_Rate &lt;chr&gt; | avg_sleep &lt;chr&gt; | diet &lt;chr&gt; |\n",
       "|---|---|---|---|---|---|\n",
       "| 150 | 10 | 35 | 100 | 5 | yes       |\n",
       "| 120 | 20 | 37 | 120 | 7 | no        |\n",
       "| 140 | 40 | 38 | 80  | 8 | no        |\n",
       "| 130 | 30 | 40 | 50  | 8 | temporary |\n",
       "| 130 | 10 | 37 | 110 | 8 | no        |\n",
       "| 120 | 30 | 41 | 120 | 6 | no        |\n",
       "| 120 | 50 | 32 | 140 | 6 | no        |\n",
       "\n"
      ],
      "text/plain": [
       "  Blood_Pressure Cholesterol_Level Temperature Heart_Rate avg_sleep diet     \n",
       "1 150            10                35          100        5         yes      \n",
       "2 120            20                37          120        7         no       \n",
       "3 140            40                38          80         8         no       \n",
       "4 130            30                40          50         8         temporary\n",
       "5 130            10                37          110        8         no       \n",
       "6 120            30                41          120        6         no       \n",
       "7 120            50                32          140        6         no       "
      ]
     },
     "metadata": {},
     "output_type": "display_data"
    }
   ],
   "source": [
    "medical_data"
   ]
  },
  {
   "cell_type": "code",
   "execution_count": 7,
   "metadata": {
    "vscode": {
     "languageId": "r"
    }
   },
   "outputs": [
    {
     "data": {
      "text/html": [
       "<table class=\"dataframe\">\n",
       "<caption>A data.frame: 7 × 6</caption>\n",
       "<thead>\n",
       "\t<tr><th scope=col>Blood_Pressure</th><th scope=col>Cholesterol_Level</th><th scope=col>Temperature</th><th scope=col>Heart_Rate</th><th scope=col>avg_sleep</th><th scope=col>diet</th></tr>\n",
       "\t<tr><th scope=col>&lt;chr&gt;</th><th scope=col>&lt;chr&gt;</th><th scope=col>&lt;chr&gt;</th><th scope=col>&lt;chr&gt;</th><th scope=col>&lt;chr&gt;</th><th scope=col>&lt;chr&gt;</th></tr>\n",
       "</thead>\n",
       "<tbody>\n",
       "\t<tr><td>150</td><td>10</td><td>35</td><td>100</td><td>5</td><td>yes      </td></tr>\n",
       "\t<tr><td>120</td><td>20</td><td>37</td><td>120</td><td>7</td><td>no       </td></tr>\n",
       "\t<tr><td>140</td><td>40</td><td>38</td><td>80 </td><td>8</td><td>no       </td></tr>\n",
       "\t<tr><td>130</td><td>30</td><td>40</td><td>50 </td><td>8</td><td>temporary</td></tr>\n",
       "\t<tr><td>130</td><td>10</td><td>37</td><td>110</td><td>8</td><td>no       </td></tr>\n",
       "\t<tr><td>120</td><td>30</td><td>41</td><td>120</td><td>6</td><td>no       </td></tr>\n",
       "\t<tr><td>120</td><td>50</td><td>32</td><td>140</td><td>6</td><td>no       </td></tr>\n",
       "</tbody>\n",
       "</table>\n"
      ],
      "text/latex": [
       "A data.frame: 7 × 6\n",
       "\\begin{tabular}{llllll}\n",
       " Blood\\_Pressure & Cholesterol\\_Level & Temperature & Heart\\_Rate & avg\\_sleep & diet\\\\\n",
       " <chr> & <chr> & <chr> & <chr> & <chr> & <chr>\\\\\n",
       "\\hline\n",
       "\t 150 & 10 & 35 & 100 & 5 & yes      \\\\\n",
       "\t 120 & 20 & 37 & 120 & 7 & no       \\\\\n",
       "\t 140 & 40 & 38 & 80  & 8 & no       \\\\\n",
       "\t 130 & 30 & 40 & 50  & 8 & temporary\\\\\n",
       "\t 130 & 10 & 37 & 110 & 8 & no       \\\\\n",
       "\t 120 & 30 & 41 & 120 & 6 & no       \\\\\n",
       "\t 120 & 50 & 32 & 140 & 6 & no       \\\\\n",
       "\\end{tabular}\n"
      ],
      "text/markdown": [
       "\n",
       "A data.frame: 7 × 6\n",
       "\n",
       "| Blood_Pressure &lt;chr&gt; | Cholesterol_Level &lt;chr&gt; | Temperature &lt;chr&gt; | Heart_Rate &lt;chr&gt; | avg_sleep &lt;chr&gt; | diet &lt;chr&gt; |\n",
       "|---|---|---|---|---|---|\n",
       "| 150 | 10 | 35 | 100 | 5 | yes       |\n",
       "| 120 | 20 | 37 | 120 | 7 | no        |\n",
       "| 140 | 40 | 38 | 80  | 8 | no        |\n",
       "| 130 | 30 | 40 | 50  | 8 | temporary |\n",
       "| 130 | 10 | 37 | 110 | 8 | no        |\n",
       "| 120 | 30 | 41 | 120 | 6 | no        |\n",
       "| 120 | 50 | 32 | 140 | 6 | no        |\n",
       "\n"
      ],
      "text/plain": [
       "  Blood_Pressure Cholesterol_Level Temperature Heart_Rate avg_sleep diet     \n",
       "1 150            10                35          100        5         yes      \n",
       "2 120            20                37          120        7         no       \n",
       "3 140            40                38          80         8         no       \n",
       "4 130            30                40          50         8         temporary\n",
       "5 130            10                37          110        8         no       \n",
       "6 120            30                41          120        6         no       \n",
       "7 120            50                32          140        6         no       "
      ]
     },
     "metadata": {},
     "output_type": "display_data"
    },
    {
     "data": {
      "text/html": [
       "<table class=\"dataframe\">\n",
       "<caption>A data.frame: 5 × 6</caption>\n",
       "<thead>\n",
       "\t<tr><th></th><th scope=col>Blood_Pressure</th><th scope=col>Cholesterol_Level</th><th scope=col>Temperature</th><th scope=col>Heart_Rate</th><th scope=col>avg_sleep</th><th scope=col>diet</th></tr>\n",
       "\t<tr><th></th><th scope=col>&lt;chr&gt;</th><th scope=col>&lt;chr&gt;</th><th scope=col>&lt;chr&gt;</th><th scope=col>&lt;chr&gt;</th><th scope=col>&lt;chr&gt;</th><th scope=col>&lt;chr&gt;</th></tr>\n",
       "</thead>\n",
       "<tbody>\n",
       "\t<tr><th scope=row>1</th><td>150</td><td>10</td><td>35</td><td>100</td><td>5</td><td>yes      </td></tr>\n",
       "\t<tr><th scope=row>4</th><td>130</td><td>30</td><td>40</td><td>50 </td><td>8</td><td>temporary</td></tr>\n",
       "\t<tr><th scope=row>5</th><td>130</td><td>10</td><td>37</td><td>110</td><td>8</td><td>no       </td></tr>\n",
       "\t<tr><th scope=row>6</th><td>120</td><td>30</td><td>41</td><td>120</td><td>6</td><td>no       </td></tr>\n",
       "\t<tr><th scope=row>7</th><td>120</td><td>50</td><td>32</td><td>140</td><td>6</td><td>no       </td></tr>\n",
       "</tbody>\n",
       "</table>\n"
      ],
      "text/latex": [
       "A data.frame: 5 × 6\n",
       "\\begin{tabular}{r|llllll}\n",
       "  & Blood\\_Pressure & Cholesterol\\_Level & Temperature & Heart\\_Rate & avg\\_sleep & diet\\\\\n",
       "  & <chr> & <chr> & <chr> & <chr> & <chr> & <chr>\\\\\n",
       "\\hline\n",
       "\t1 & 150 & 10 & 35 & 100 & 5 & yes      \\\\\n",
       "\t4 & 130 & 30 & 40 & 50  & 8 & temporary\\\\\n",
       "\t5 & 130 & 10 & 37 & 110 & 8 & no       \\\\\n",
       "\t6 & 120 & 30 & 41 & 120 & 6 & no       \\\\\n",
       "\t7 & 120 & 50 & 32 & 140 & 6 & no       \\\\\n",
       "\\end{tabular}\n"
      ],
      "text/markdown": [
       "\n",
       "A data.frame: 5 × 6\n",
       "\n",
       "| <!--/--> | Blood_Pressure &lt;chr&gt; | Cholesterol_Level &lt;chr&gt; | Temperature &lt;chr&gt; | Heart_Rate &lt;chr&gt; | avg_sleep &lt;chr&gt; | diet &lt;chr&gt; |\n",
       "|---|---|---|---|---|---|---|\n",
       "| 1 | 150 | 10 | 35 | 100 | 5 | yes       |\n",
       "| 4 | 130 | 30 | 40 | 50  | 8 | temporary |\n",
       "| 5 | 130 | 10 | 37 | 110 | 8 | no        |\n",
       "| 6 | 120 | 30 | 41 | 120 | 6 | no        |\n",
       "| 7 | 120 | 50 | 32 | 140 | 6 | no        |\n",
       "\n"
      ],
      "text/plain": [
       "  Blood_Pressure Cholesterol_Level Temperature Heart_Rate avg_sleep diet     \n",
       "1 150            10                35          100        5         yes      \n",
       "4 130            30                40          50         8         temporary\n",
       "5 130            10                37          110        8         no       \n",
       "6 120            30                41          120        6         no       \n",
       "7 120            50                32          140        6         no       "
      ]
     },
     "metadata": {},
     "output_type": "display_data"
    },
    {
     "data": {
      "text/html": [
       "<table class=\"dataframe\">\n",
       "<caption>A data.frame: 6 × 6</caption>\n",
       "<thead>\n",
       "\t<tr><th></th><th scope=col>Blood_Pressure</th><th scope=col>Cholesterol_Level</th><th scope=col>Temperature</th><th scope=col>Heart_Rate</th><th scope=col>avg_sleep</th><th scope=col>diet</th></tr>\n",
       "\t<tr><th></th><th scope=col>&lt;chr&gt;</th><th scope=col>&lt;chr&gt;</th><th scope=col>&lt;chr&gt;</th><th scope=col>&lt;chr&gt;</th><th scope=col>&lt;chr&gt;</th><th scope=col>&lt;chr&gt;</th></tr>\n",
       "</thead>\n",
       "<tbody>\n",
       "\t<tr><th scope=row>2</th><td>120</td><td>20</td><td>37</td><td>120</td><td>7</td><td>no       </td></tr>\n",
       "\t<tr><th scope=row>3</th><td>140</td><td>40</td><td>38</td><td>80 </td><td>8</td><td>no       </td></tr>\n",
       "\t<tr><th scope=row>4</th><td>130</td><td>30</td><td>40</td><td>50 </td><td>8</td><td>temporary</td></tr>\n",
       "\t<tr><th scope=row>5</th><td>130</td><td>10</td><td>37</td><td>110</td><td>8</td><td>no       </td></tr>\n",
       "\t<tr><th scope=row>6</th><td>120</td><td>30</td><td>41</td><td>120</td><td>6</td><td>no       </td></tr>\n",
       "\t<tr><th scope=row>7</th><td>120</td><td>50</td><td>32</td><td>140</td><td>6</td><td>no       </td></tr>\n",
       "</tbody>\n",
       "</table>\n"
      ],
      "text/latex": [
       "A data.frame: 6 × 6\n",
       "\\begin{tabular}{r|llllll}\n",
       "  & Blood\\_Pressure & Cholesterol\\_Level & Temperature & Heart\\_Rate & avg\\_sleep & diet\\\\\n",
       "  & <chr> & <chr> & <chr> & <chr> & <chr> & <chr>\\\\\n",
       "\\hline\n",
       "\t2 & 120 & 20 & 37 & 120 & 7 & no       \\\\\n",
       "\t3 & 140 & 40 & 38 & 80  & 8 & no       \\\\\n",
       "\t4 & 130 & 30 & 40 & 50  & 8 & temporary\\\\\n",
       "\t5 & 130 & 10 & 37 & 110 & 8 & no       \\\\\n",
       "\t6 & 120 & 30 & 41 & 120 & 6 & no       \\\\\n",
       "\t7 & 120 & 50 & 32 & 140 & 6 & no       \\\\\n",
       "\\end{tabular}\n"
      ],
      "text/markdown": [
       "\n",
       "A data.frame: 6 × 6\n",
       "\n",
       "| <!--/--> | Blood_Pressure &lt;chr&gt; | Cholesterol_Level &lt;chr&gt; | Temperature &lt;chr&gt; | Heart_Rate &lt;chr&gt; | avg_sleep &lt;chr&gt; | diet &lt;chr&gt; |\n",
       "|---|---|---|---|---|---|---|\n",
       "| 2 | 120 | 20 | 37 | 120 | 7 | no        |\n",
       "| 3 | 140 | 40 | 38 | 80  | 8 | no        |\n",
       "| 4 | 130 | 30 | 40 | 50  | 8 | temporary |\n",
       "| 5 | 130 | 10 | 37 | 110 | 8 | no        |\n",
       "| 6 | 120 | 30 | 41 | 120 | 6 | no        |\n",
       "| 7 | 120 | 50 | 32 | 140 | 6 | no        |\n",
       "\n"
      ],
      "text/plain": [
       "  Blood_Pressure Cholesterol_Level Temperature Heart_Rate avg_sleep diet     \n",
       "2 120            20                37          120        7         no       \n",
       "3 140            40                38          80         8         no       \n",
       "4 130            30                40          50         8         temporary\n",
       "5 130            10                37          110        8         no       \n",
       "6 120            30                41          120        6         no       \n",
       "7 120            50                32          140        6         no       "
      ]
     },
     "metadata": {},
     "output_type": "display_data"
    }
   ],
   "source": [
    "# remove rows\n",
    "new_medical_data <- medical_data[-c(2, 3),]\n",
    "\n",
    "# or\n",
    "filtered_medical_data <- medical_data[medical_data$diet != \"yes\", , drop = FALSE]\n",
    "\n",
    "medical_data\n",
    "new_medical_data\n",
    "filtered_medical_data"
   ]
  },
  {
   "cell_type": "markdown",
   "metadata": {},
   "source": [
    "**Applying conditions to arrays**"
   ]
  },
  {
   "cell_type": "code",
   "execution_count": 9,
   "metadata": {
    "vscode": {
     "languageId": "r"
    }
   },
   "outputs": [
    {
     "data": {
      "text/html": [
       "<style>\n",
       ".list-inline {list-style: none; margin:0; padding: 0}\n",
       ".list-inline>li {display: inline-block}\n",
       ".list-inline>li:not(:last-child)::after {content: \"\\00b7\"; padding: 0 .5ex}\n",
       "</style>\n",
       "<ol class=list-inline><li>TRUE</li><li>TRUE</li><li>FALSE</li><li>FALSE</li><li>TRUE</li></ol>\n"
      ],
      "text/latex": [
       "\\begin{enumerate*}\n",
       "\\item TRUE\n",
       "\\item TRUE\n",
       "\\item FALSE\n",
       "\\item FALSE\n",
       "\\item TRUE\n",
       "\\end{enumerate*}\n"
      ],
      "text/markdown": [
       "1. TRUE\n",
       "2. TRUE\n",
       "3. FALSE\n",
       "4. FALSE\n",
       "5. TRUE\n",
       "\n",
       "\n"
      ],
      "text/plain": [
       "[1]  TRUE  TRUE FALSE FALSE  TRUE"
      ]
     },
     "metadata": {},
     "output_type": "display_data"
    }
   ],
   "source": [
    "x <- c(5, 10, 50, 30, 15)\n",
    "y <- x < 25\n",
    "\n",
    "y"
   ]
  },
  {
   "cell_type": "markdown",
   "metadata": {},
   "source": [
    "**Apply, Sapply, Lapply, Conditions**"
   ]
  },
  {
   "cell_type": "code",
   "execution_count": 39,
   "metadata": {
    "vscode": {
     "languageId": "r"
    }
   },
   "outputs": [
    {
     "data": {
      "text/html": [
       "<table class=\"dataframe\">\n",
       "<caption>A data.frame: 7 × 6</caption>\n",
       "<thead>\n",
       "\t<tr><th scope=col>Blood_Pressure</th><th scope=col>Cholesterol_Level</th><th scope=col>Temperature</th><th scope=col>Heart_Rate</th><th scope=col>avg_sleep</th><th scope=col>diet</th></tr>\n",
       "\t<tr><th scope=col>&lt;chr&gt;</th><th scope=col>&lt;chr&gt;</th><th scope=col>&lt;chr&gt;</th><th scope=col>&lt;chr&gt;</th><th scope=col>&lt;chr&gt;</th><th scope=col>&lt;chr&gt;</th></tr>\n",
       "</thead>\n",
       "<tbody>\n",
       "\t<tr><td>150</td><td>10</td><td>35</td><td>100</td><td>5</td><td>3</td></tr>\n",
       "\t<tr><td>120</td><td>20</td><td>37</td><td>120</td><td>7</td><td>9</td></tr>\n",
       "\t<tr><td>140</td><td>40</td><td>38</td><td>80 </td><td>8</td><td>9</td></tr>\n",
       "\t<tr><td>130</td><td>30</td><td>40</td><td>50 </td><td>8</td><td>6</td></tr>\n",
       "\t<tr><td>130</td><td>10</td><td>37</td><td>110</td><td>8</td><td>9</td></tr>\n",
       "\t<tr><td>120</td><td>30</td><td>41</td><td>120</td><td>6</td><td>9</td></tr>\n",
       "\t<tr><td>120</td><td>50</td><td>32</td><td>140</td><td>6</td><td>9</td></tr>\n",
       "</tbody>\n",
       "</table>\n"
      ],
      "text/latex": [
       "A data.frame: 7 × 6\n",
       "\\begin{tabular}{llllll}\n",
       " Blood\\_Pressure & Cholesterol\\_Level & Temperature & Heart\\_Rate & avg\\_sleep & diet\\\\\n",
       " <chr> & <chr> & <chr> & <chr> & <chr> & <chr>\\\\\n",
       "\\hline\n",
       "\t 150 & 10 & 35 & 100 & 5 & 3\\\\\n",
       "\t 120 & 20 & 37 & 120 & 7 & 9\\\\\n",
       "\t 140 & 40 & 38 & 80  & 8 & 9\\\\\n",
       "\t 130 & 30 & 40 & 50  & 8 & 6\\\\\n",
       "\t 130 & 10 & 37 & 110 & 8 & 9\\\\\n",
       "\t 120 & 30 & 41 & 120 & 6 & 9\\\\\n",
       "\t 120 & 50 & 32 & 140 & 6 & 9\\\\\n",
       "\\end{tabular}\n"
      ],
      "text/markdown": [
       "\n",
       "A data.frame: 7 × 6\n",
       "\n",
       "| Blood_Pressure &lt;chr&gt; | Cholesterol_Level &lt;chr&gt; | Temperature &lt;chr&gt; | Heart_Rate &lt;chr&gt; | avg_sleep &lt;chr&gt; | diet &lt;chr&gt; |\n",
       "|---|---|---|---|---|---|\n",
       "| 150 | 10 | 35 | 100 | 5 | 3 |\n",
       "| 120 | 20 | 37 | 120 | 7 | 9 |\n",
       "| 140 | 40 | 38 | 80  | 8 | 9 |\n",
       "| 130 | 30 | 40 | 50  | 8 | 6 |\n",
       "| 130 | 10 | 37 | 110 | 8 | 9 |\n",
       "| 120 | 30 | 41 | 120 | 6 | 9 |\n",
       "| 120 | 50 | 32 | 140 | 6 | 9 |\n",
       "\n"
      ],
      "text/plain": [
       "  Blood_Pressure Cholesterol_Level Temperature Heart_Rate avg_sleep diet\n",
       "1 150            10                35          100        5         3   \n",
       "2 120            20                37          120        7         9   \n",
       "3 140            40                38          80         8         9   \n",
       "4 130            30                40          50         8         6   \n",
       "5 130            10                37          110        8         9   \n",
       "6 120            30                41          120        6         9   \n",
       "7 120            50                32          140        6         9   "
      ]
     },
     "metadata": {},
     "output_type": "display_data"
    }
   ],
   "source": [
    "# convert the diet to numbers with factor with apply\n",
    "# \"yes\" -> 1, \"temporary\" -> 2, \"no\" -> 3\n",
    "factor <- 3\n",
    "\n",
    "convert_diet <- function(patient, factor) {\n",
    "    diet <- patient[[\"diet\"]]\n",
    "    # check cases\n",
    "    if(diet == \"yes\") {\n",
    "        new_val <- 1\n",
    "    } else if (diet == \"temporary\") {\n",
    "        new_val <- 2\n",
    "    } else {\n",
    "        new_val <- 3\n",
    "    }\n",
    "    # add new value\n",
    "    patient[[\"diet\"]] <- new_val * factor\n",
    "    return(patient)\n",
    "}\n",
    "\n",
    "# apply returns a matrix with row names\n",
    "# t transposes the matrix, now has same format as before\n",
    "# as.data.frame converts from matrix to data frame\n",
    "converted_medical_data <- as.data.frame(t(apply(medical_data, MARGIN = 1, FUN = convert_diet, factor)))\n",
    "\n",
    "converted_medical_data"
   ]
  }
 ],
 "metadata": {
  "kernelspec": {
   "display_name": "R",
   "language": "R",
   "name": "ir"
  },
  "language_info": {
   "codemirror_mode": "r",
   "file_extension": ".r",
   "mimetype": "text/x-r-source",
   "name": "R",
   "pygments_lexer": "r",
   "version": "4.3.1"
  }
 },
 "nbformat": 4,
 "nbformat_minor": 2
}
